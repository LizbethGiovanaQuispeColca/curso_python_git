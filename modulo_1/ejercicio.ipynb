{
 "cells": [
  {
   "cell_type": "markdown",
   "metadata": {},
   "source": [
    "# TAREA NRO 3\n",
    "\n",
    "\n",
    "## EJERCICIO\n",
    "\n",
    "Curso: Desarrollo de proyectos Geofísicos usando Python y GIT: Modelado, visualización, inversión y Machine Learning CCMasters Education\n",
    "\n",
    "Alumna: Lizbeth Giovana Quispe Colca"
   ]
  },
  {
   "cell_type": "markdown",
   "metadata": {},
   "source": [
    "### Ejercicio 1"
   ]
  },
  {
   "cell_type": "markdown",
   "metadata": {},
   "source": [
    "Un algoritmo en el que el usuario deba poner coordenadas de latitud y longitud. Posteriormente, un print que muestre algo del estilo \"Las coordenadas son 62.22 N, 12.33 W\", la latitud y la longitud deben tener dos cifras significativas."
   ]
  },
  {
   "cell_type": "code",
   "execution_count": 18,
   "metadata": {},
   "outputs": [
    {
     "name": "stdout",
     "output_type": "stream",
     "text": [
      "Las coordenadas son: -14.25N, -68.75E\n"
     ]
    }
   ],
   "source": [
    "# Ingresar la Latitud (Coordenada norte) y Longitud (Coordenada norte)\n",
    "\n",
    "Latitud = float(input(\"Introduce la latitud en grados decimales: °\"))\n",
    "Longitud = float(input(\"Introduce la longitud en grados decimales: °\"))\n",
    "\n",
    "\n",
    "print(f\"Las coordenadas son: {round(Latitud, 2)}N, {round(Longitud,2)}E\")\n"
   ]
  },
  {
   "cell_type": "markdown",
   "metadata": {},
   "source": [
    "### Ejercicio 2"
   ]
  },
  {
   "cell_type": "markdown",
   "metadata": {},
   "source": [
    "Un algoritmo en el que el usuario escriba su nombre y, posteriormente, le muestre un texto del estilo \"Hola, Juan, bienvenido a Python\"."
   ]
  },
  {
   "cell_type": "code",
   "execution_count": 26,
   "metadata": {},
   "outputs": [
    {
     "name": "stdout",
     "output_type": "stream",
     "text": [
      "Hola, Liz , bienvenido a Python\n"
     ]
    }
   ],
   "source": [
    "Nombre_de_usuario = input(\"Escribe tu nombre: \")\n",
    "print(\"Hola,\",Nombre_de_usuario,\", bienvenido a Python\" )"
   ]
  },
  {
   "cell_type": "markdown",
   "metadata": {},
   "source": [
    "### Ejercicio 3"
   ]
  },
  {
   "cell_type": "markdown",
   "metadata": {},
   "source": [
    "Un algoritmo en el que el usuario ingrese una temperatura en grados Celsius y el programa convierta esta temperatura a grados Fahrenheit. Después, debe imprimir un mensaje que diga \"XX°C es igual a YY°F\""
   ]
  },
  {
   "cell_type": "code",
   "execution_count": 29,
   "metadata": {},
   "outputs": [
    {
     "name": "stdout",
     "output_type": "stream",
     "text": [
      "25.0 °C es igual a 77.0 °F\n"
     ]
    }
   ],
   "source": [
    "# Ingresar la tempratura en grados Celsius:\n",
    "\n",
    "Temperatura_en_grados_Celsius = float(input(\"Ingresa la temperatura en grados celsius °C: \"))\n",
    "\n",
    "# Conversión a temperatura en grados Fahrenheit:\n",
    "\n",
    "Temperatura_en_grados_Fahrenheit = (Temperatura_en_grados_Celsius * (9/5) + 32)\n",
    "\n",
    "# Grados Celsius convertidos a grados Fahrenheit:\n",
    "\n",
    "print(Temperatura_en_grados_Celsius,\"°C es igual a\",Temperatura_en_grados_Fahrenheit,\"°F\")"
   ]
  },
  {
   "cell_type": "markdown",
   "metadata": {},
   "source": [
    "### Ejercicio reto (opcional)"
   ]
  },
  {
   "cell_type": "markdown",
   "metadata": {},
   "source": [
    "Este ejercicio es de un nivel un poco más avanzado que los demás y va a requerir algo de investigación independiente respecto a lo visto en clase, consiste en crear un algoritmo en el que el usuario introduzca un número y se le devuelva un print que diga si es o no es primo."
   ]
  },
  {
   "cell_type": "code",
   "execution_count": 38,
   "metadata": {},
   "outputs": [
    {
     "name": "stdout",
     "output_type": "stream",
     "text": [
      "15 NO es número primo\n"
     ]
    }
   ],
   "source": [
    "n = int(input(\"Indroduzca un número entero: \"))\n",
    "\n",
    "list_residuo = []\n",
    "zeros = []\n",
    "\n",
    "if  n == 2:\n",
    "  print(f\"{n} es un número primo\")\n",
    "elif n%2 ==0: #para numeros pares\n",
    "  print(f\"{n} NO es un número primo\")\n",
    "else: #para numeros impares. \n",
    "  for i in range(3,n+1,2):\n",
    "    residuo = n%i\n",
    "    list_residuo.append(residuo)\n",
    "  for j in list_residuo:\n",
    "    if j == 0:\n",
    "      zeros.append(j) \n",
    "  if len(zeros) > 1:\n",
    "    print(f\"{n} NO es número primo\")\n",
    "  else:\n",
    "    print(f\"{n} es un número primo\")\n",
    "\n"
   ]
  }
 ],
 "metadata": {
  "kernelspec": {
   "display_name": "Python 3",
   "language": "python",
   "name": "python3"
  },
  "language_info": {
   "codemirror_mode": {
    "name": "ipython",
    "version": 3
   },
   "file_extension": ".py",
   "mimetype": "text/x-python",
   "name": "python",
   "nbconvert_exporter": "python",
   "pygments_lexer": "ipython3",
   "version": "3.10.13"
  }
 },
 "nbformat": 4,
 "nbformat_minor": 2
}
