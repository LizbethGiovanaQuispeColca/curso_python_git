{
 "cells": [
  {
   "cell_type": "markdown",
   "metadata": {},
   "source": [
    "# TAREA DE LA SESIÓN 4\n",
    "\n",
    "Curso: Desarrollo de proyectos Geofísicos usando Python y GIT: Modelado, visualización, inversión y Machine Learning CCMasters Education\n",
    "\n",
    "Alumna: Lizbeth Giovana Quispe Colca"
   ]
  },
  {
   "cell_type": "markdown",
   "metadata": {},
   "source": [
    "### Ejercicio "
   ]
  },
  {
   "cell_type": "markdown",
   "metadata": {},
   "source": [
    "1. Crear un programa de Python que simule el lanzamiento de dados.\n",
    "2. El programa debe permitir al usuario especificar el número de dados y el número de lanzamientos a simular.\n",
    "3. El código debe retornarle al usuario en pantalla el valor de cada uno de los dados lanzados en cada lanzamiento.\n",
    "4. Subir al formulario el link del repositorio en el que está tu tarea e indicar si trabajaste solo, en grupo y con quién.\n",
    "\n",
    "Reto opcional: El algoritmo debe mostrarle al usuario el número más común, la media, la desviación estándar, el valor mínimo y el valor máximo para cada dado después de 10 lanzamientos."
   ]
  },
  {
   "cell_type": "markdown",
   "metadata": {},
   "source": [
    "### Una primera forma de realizarlo : Forma incompleta"
   ]
  },
  {
   "cell_type": "code",
   "execution_count": null,
   "metadata": {},
   "outputs": [],
   "source": [
    "import numpy as np"
   ]
  },
  {
   "cell_type": "code",
   "execution_count": null,
   "metadata": {},
   "outputs": [],
   "source": [
    "rng = np.random.default_rng()"
   ]
  },
  {
   "cell_type": "code",
   "execution_count": 276,
   "metadata": {},
   "outputs": [
    {
     "name": "stdout",
     "output_type": "stream",
     "text": [
      "5\n",
      "4\n"
     ]
    }
   ],
   "source": [
    "Numero_dados = int(input(\"Especifica el número de dados: \"))\n",
    "Numero_lanzamientos = int(input(\"Especifica el número de lanzamientos: \"))\n",
    "\n",
    "print (Numero_dados)\n",
    "print (Numero_lanzamientos)\n"
   ]
  },
  {
   "cell_type": "code",
   "execution_count": 277,
   "metadata": {},
   "outputs": [
    {
     "name": "stdout",
     "output_type": "stream",
     "text": [
      "El valor de los dados a los 4 lanzamientos son: 3\n",
      "El valor de los dados a los 4 lanzamientos son: 3\n",
      "El valor de los dados a los 4 lanzamientos son: 3\n",
      "El valor de los dados a los 4 lanzamientos son: 1\n",
      "El valor de los dados a los 4 lanzamientos son: 4\n"
     ]
    }
   ],
   "source": [
    "for i in range (Numero_dados):\n",
    "    dados = rng.integers (1,6)\n",
    "    lanzamientos = Numero_lanzamientos\n",
    "    print (f\"El valor de los dados a los {lanzamientos} lanzamientos son: {dados}\")\n",
    "    "
   ]
  },
  {
   "cell_type": "markdown",
   "metadata": {},
   "source": [
    "### Segunda forma de realizarlo:  Forma completa"
   ]
  },
  {
   "cell_type": "code",
   "execution_count": 339,
   "metadata": {},
   "outputs": [
    {
     "name": "stdout",
     "output_type": "stream",
     "text": [
      "Lanzamiento 1: [4, 6, 1, 1, 1]\n",
      "Lanzamiento 2: [3, 3, 3, 2, 5]\n",
      "Lanzamiento 3: [4, 3, 2, 6, 4]\n",
      "Lanzamiento 4: [4, 6, 3, 1, 3]\n"
     ]
    }
   ],
   "source": [
    "import random\n",
    "\n",
    "def lanzamiento_de_dados (numero_dados, numero_lanzamientos):\n",
    "    for lanzamiento in range (numero_lanzamientos):\n",
    "        resultado = [random.randint (1, 6) for _ in range (numero_dados)]\n",
    "        print (f'Lanzamiento {lanzamiento + 1}: {resultado}')\n",
    "\n",
    "numero_dados = int (input (\"Especifica el número de dados a lanzar: \"))\n",
    "numero_lanzamientos = int (input (\"Especifica el número de lanzamientos a simular: \"))\n",
    "\n",
    "lanzamiento_de_dados (numero_dados, numero_lanzamientos)\n"
   ]
  }
 ],
 "metadata": {
  "kernelspec": {
   "display_name": "Python 3",
   "language": "python",
   "name": "python3"
  },
  "language_info": {
   "codemirror_mode": {
    "name": "ipython",
    "version": 3
   },
   "file_extension": ".py",
   "mimetype": "text/x-python",
   "name": "python",
   "nbconvert_exporter": "python",
   "pygments_lexer": "ipython3",
   "version": "3.10.13"
  }
 },
 "nbformat": 4,
 "nbformat_minor": 2
}
